{
 "cells": [
  {
   "cell_type": "code",
   "execution_count": 1,
   "metadata": {},
   "outputs": [],
   "source": [
    "from qulacs import *\n",
    "from qulacs.gate import *\n",
    "from qulacs.state import *\n",
    "from scipy import stats\n",
    "from collections import Counter\n",
    "import numpy as np"
   ]
  },
  {
   "cell_type": "code",
   "execution_count": 2,
   "metadata": {},
   "outputs": [],
   "source": [
    "def Generate_bernoulli(prob):\n",
    "    x = stats.bernoulli.rvs(p=prob, size=1)\n",
    "    return x[0]\n",
    "\n",
    "def ctrl_gate(U,c):\n",
    "    return add(P0(c),merge(P1(c),U))\n",
    "\n",
    "def measure(state,m):\n",
    "    if m==0:\n",
    "        P0(0).update_quantum_state(state)\n",
    "    else:\n",
    "        P1(0).update_quantum_state(state)\n",
    "    state.normalize(state.get_squared_norm())\n",
    "    return state\n",
    "\n",
    "def Hadamard_test(state,uni_matrix):\n",
    "    #print(state,uni_matrix)\n",
    "    circuit = merge(merge(H(0),ctrl_gate(uni_matrix,0)) , H(0))\n",
    "    circuit.update_quantum_state(state)\n",
    "    #print(state)\n",
    "    p1 = 1-state.get_zero_probability(0)\n",
    "    b = Generate_bernoulli(p1)\n",
    "    #print(p1,b)\n",
    "    if b==0:\n",
    "        P0(0).update_quantum_state(state)\n",
    "        measure(state,b)\n",
    "    else:\n",
    "        P1(0).update_quantum_state(state)\n",
    "        measure(state,b)\n",
    "        X(0).update_quantum_state(state)\n",
    "    return state,1-p1,p1"
   ]
  },
  {
   "cell_type": "code",
   "execution_count": 5,
   "metadata": {
    "pycharm": {
     "name": "#%%\n"
    }
   },
   "outputs": [
    {
     "name": "stdout",
     "output_type": "stream",
     "text": [
      "[1.+0.j 0.+0.j 0.+0.j 0.+0.j]\n",
      " *** Quantum State ***\n",
      " * Qubit Count : 2\n",
      " * Dimension   : 4\n",
      " * State vector : \n",
      "(0.382683,0)\n",
      "       (0,0)\n",
      "(-0.92388,0)\n",
      "       (0,0)\n",
      " -1.0\n"
     ]
    }
   ],
   "source": [
    "itr = 30\n",
    "n=2\n",
    "state = QuantumState(n)\n",
    "\n",
    "#uni_matrix = merge(H(1),RX(2,-np.pi/4))\n",
    "#uni_matrix = RX(1,np.pi/2)\n",
    "#print(uni_matrix.get_matrix())\n",
    "uni_matrix = H(1)\n",
    "#uni_matrix = X(1)\n",
    "#uni_matrix = Identity(1)\n",
    "\n",
    "#init_state_matrix = merge (H(1),X(1))\n",
    "#init_state_matrix.update_quantum_state(state)\n",
    "#print(Hadamard_test(state,uni_matrix))\n",
    "\n",
    "print(state.get_vector())\n",
    "\n",
    "for i in range(itr):\n",
    "    res = Hadamard_test(state,uni_matrix)\n",
    "    state = res[0]\n",
    "    #print(i,state.get_vector())\n",
    "\n",
    "print(state,res[1]-res[2])\n"
   ]
  }
 ],
 "metadata": {
  "kernelspec": {
   "display_name": "Python 3",
   "language": "python",
   "name": "python3"
  },
  "language_info": {
   "codemirror_mode": {
    "name": "ipython",
    "version": 3
   },
   "file_extension": ".py",
   "mimetype": "text/x-python",
   "name": "python",
   "nbconvert_exporter": "python",
   "pygments_lexer": "ipython3",
   "version": "3.7.4"
  }
 },
 "nbformat": 4,
 "nbformat_minor": 4
}