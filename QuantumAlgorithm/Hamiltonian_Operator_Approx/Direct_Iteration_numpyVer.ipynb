{
 "cells": [
  {
   "cell_type": "markdown",
   "metadata": {},
   "source": [
    "# Ground Energy Calculation by Direct Iteration"
   ]
  },
  {
   "cell_type": "markdown",
   "metadata": {},
   "source": [
    "## Explanation\n",
    "Ground energy calculation using direct iteration is validated by the follwing theorem.\n",
    "\n",
    "### Theorem\n",
    "\\begin{eqnarray}\n",
    "    E \\sim \\frac{\\left<\\Psi\\left|H^{2k+1}\\right|\\Psi\\right>}{\\left<\\Psi\\left|H^{2k}\\right|\\Psi\\right>}\n",
    "\\end{eqnarray}\n",
    "\n",
    "#### Proof (By myself)\n",
    "\n",
    "Let $\\lambda_i$, $v_i$ be eigenvalues and eigenvectors of matrix A for $i=1,2,..,N$.\n",
    "\\begin{eqnarray}\n",
    "    A v_i = \\lambda_i v_i\n",
    "\\end{eqnarray}\n",
    "\n",
    "For arbitary vector w, w could be expanded as\n",
    "\\begin{eqnarray}\n",
    "    w = \\sum_{i=1}^{N} c_i v_i.\n",
    "\\end{eqnarray}\n",
    "Thus, \n",
    "\\begin{eqnarray}\n",
    "    A^k w = \\sum_{i=1}^{N} c_i \\lambda_i^k v_i.\n",
    "\\end{eqnarray}\n",
    "For large $k$, with $c_j \\neq 0$\n",
    "\\begin{eqnarray}\n",
    "    && \\frac{A^k w}{|A^k w|} \\to v_j, \\nonumber\\\\\n",
    "    && where, \\max(|\\lambda_1|,|\\lambda_2|,..,|\\lambda_N|) = \\lambda_j\n",
    "\\end{eqnarray}\n",
    "\n",
    "\\begin{eqnarray}\n",
    "    \\left< A \\right> =&& v_j^T A v_j \\sim \\left(\\frac{A^k w}{|A^k w|}\\right)^T A \\left(\\frac{A^k w}{|A^k w|}\\right) \\nonumber\\\\\n",
    "    =&& \\frac{\\left<w\\left|A^{2k+1}\\right|w\\right>}{\\left<w\\left|A^{2k}\\right|w\\right>}\n",
    "\\end{eqnarray}\n",
    "\n",
    "\n",
    "Since Heisenberg model is the case that groud energy has largest absolute value, we can calculate its ground energy by the theorem."
   ]
  },
  {
   "cell_type": "code",
   "execution_count": 2,
   "metadata": {},
   "outputs": [],
   "source": [
    "import numpy as np\n",
    "from openfermion.linalg import get_sparse_operator"
   ]
  },
  {
   "cell_type": "markdown",
   "metadata": {},
   "source": [
    "## HOAに必要な関数を定義"
   ]
  },
  {
   "cell_type": "code",
   "execution_count": 3,
   "metadata": {},
   "outputs": [
    {
     "name": "stdout",
     "output_type": "stream",
     "text": [
      "[ 2.98530789e-19 -3.02262424e-18  0.00000000e+00  1.00000000e+00\n",
      " -2.41809939e-17  0.00000000e+00  0.00000000e+00]\n"
     ]
    }
   ],
   "source": [
    "from math import factorial\n",
    "\n",
    "def Derive_q(S:int,K:int):\n",
    "    \"\"\"\n",
    "    solve Simultaneous equations\n",
    "    returns vector q as numpy.array\n",
    "    \"\"\"\n",
    "    s = (S-1)/2\n",
    "    M = []\n",
    "    D = [0]*S\n",
    "    D[K] = factorial(K)\n",
    "    for i in range(S):\n",
    "        M.append([])\n",
    "        for j in range(S):\n",
    "            M[-1].append((-s+j)**(i))\n",
    "    M = np.array(M)\n",
    "    q = np.linalg.inv(M)@D\n",
    "    #q = np.round(np.linalg.inv(M)@D,15)\n",
    "    #print(np.round(M@np.linalg.inv(M),8))\n",
    "    #print(np.linalg.inv(M))\n",
    "    #print(M)\n",
    "    #print(D)\n",
    "    return q\n",
    "print(Derive_q(S=7,K=0))\n",
    "\n",
    "def Propagator(hamiltonian,t:float):\n",
    "    \"\"\"\n",
    "    input hamiltonian as numpy.array\n",
    "    construct a time evolution of Heisenberg Hamiltonian: U=e^{-iHt}\n",
    "    returns array of the unitary matrix\n",
    "    \"\"\"\n",
    "    unitary_mtrx = np.exp(-1j * hamiltonian * t)\n",
    "    return unitary_mtrx\n",
    "\n",
    "def H_Diff(S:int,delta:float,hamiltonian,K:int):\n",
    "    \"\"\"\n",
    "    inputs: number of stential points S, distance of stential points, and QubitOperator hamiltonian.\n",
    "    Construct HOA hamilotonian by size S and distance of neighboring points delta defined in the paper\n",
    "    returns: array of the HOA hamilotonian\n",
    "    \"\"\"\n",
    "    veq_q = Derive_q(S=S,K=K)\n",
    "    hamiltonian=get_sparse_operator(hamiltonian).toarray()\n",
    "    s=(S-1)/2\n",
    "    H = Propagator(hamiltonian,-s*delta)*veq_q[0]\n",
    "    for i in range(1,S):\n",
    "        H+=Propagator(hamiltonian,(-s+i)*delta)*veq_q[i]\n",
    "    return ((1j/delta)**K) * H"
   ]
  },
  {
   "cell_type": "markdown",
   "metadata": {},
   "source": [
    "## Hamiltonian Preparation"
   ]
  },
  {
   "cell_type": "code",
   "execution_count": 4,
   "metadata": {},
   "outputs": [],
   "source": [
    "from openfermion import QubitOperator\n",
    "def HeisenbergQubitOperator(J,h,N):\n",
    "    \"\"\"\n",
    "    returns hamiotonian as openfermion.ops.operators.qubit_operator.QubitOperator\n",
    "    \"\"\"\n",
    "    hamiltonian = QubitOperator()\n",
    "    spin2_list = []\n",
    "    spin1_list = []\n",
    "\n",
    "    for i in range(N):\n",
    "        spin1_list.append(\"Z{}\".format(i))\n",
    "    for i in range(N-1):\n",
    "        for j in [\"X\",\"Y\",\"Z\"]:\n",
    "            spin2_list.append(\"{}{} {}{}\".format(j,i,j,i+1))\n",
    "    for i in range(N):\n",
    "        hamiltonian += -h*QubitOperator(spin1_list[i])\n",
    "    for i in range(3*(N-1)):\n",
    "        hamiltonian += -J*QubitOperator(spin2_list[i])\n",
    "    return hamiltonian\n",
    "\n",
    "def Heisenberg_Hamiltonian(J,h,N):\n",
    "    \"\"\"\n",
    "    returns Heisenberg hamiltonian as array\n",
    "    \"\"\"\n",
    "    hamiltonian = HeisenbergQubitOperator(J,h,N)\n",
    "    type(get_sparse_operator(hamiltonian,n_qubits=N))\n",
    "    hamiltonian = get_sparse_operator(hamiltonian,n_qubits=N).toarray()\n",
    "    return hamiltonian\n",
    "\n",
    "def power(mat,n:int):\n",
    "    if n>=1:\n",
    "        return power(mat,n-1)@mat\n",
    "    else:\n",
    "        return np.eye(len(mat))"
   ]
  },
  {
   "cell_type": "markdown",
   "metadata": {},
   "source": [
    "## Heisenberg Model\n",
    "\n",
    "N: Number of spin (=qubits).\n",
    "\\begin{eqnarray}\n",
    "    H = -J\\sum_{i=0}^{N-2}\\hat s_{i} \\cdot\\hat s_{i+1} - h\\sum_{i=0}^{N-1}\\hat Z_{i}\n",
    "\\end{eqnarray}\n",
    "\n",
    "By using the relations,\n",
    "\\begin{eqnarray}\n",
    "    \\left<m\\right|s_{xy}\\left|m\\right> = 0 \\nonumber\\\\\n",
    "    \\left<m\\right|s_{z}\\left|m\\right> = (-1)^m \\nonumber\\\\\n",
    "    for ~ m=0,1\n",
    "\\end{eqnarray}\n",
    "the ground state is expected to be $\\left|00..0\\right>$ and the ground energy is \n",
    "\\begin{eqnarray}\n",
    "    -J (N-1) -hN.\n",
    "\\end{eqnarray}\n",
    "\n",
    "> |max energy| < |ground energy| が成り立つ．\n",
    "ハミルトニアンの各項が次式を満たし，\n",
    "\\begin{eqnarray}\n",
    "    \\sum_{i=0}^{N-1}\\hat Z_{i} \\geq -N ~~ ,\\sum_{i=0}^{N-2}\\hat s_{i} \\cdot\\hat s_{i+1} \\geq -(N-1)\n",
    "\\end{eqnarray}\n",
    "２式の等式が同時に成り立たないため．"
   ]
  },
  {
   "cell_type": "code",
   "execution_count": 5,
   "metadata": {},
   "outputs": [
    {
     "name": "stdout",
     "output_type": "stream",
     "text": [
      "[-4.999989574842937, -5.7933965684577515, -7.434473719622167, -10.295541953861566, -10.699145988884514]\n",
      "-11.0\n"
     ]
    }
   ],
   "source": [
    "N = 6\n",
    "S = 5\n",
    "J,h=1,1\n",
    "delta = 10**-1.75\n",
    "hamiltonian = HeisenbergQubitOperator(J=J,h=h,N=N)\n",
    "\n",
    "array_hamil = Heisenberg_Hamiltonian(J=J,h=h,N=N)\n",
    "val,vec = np.linalg.eig(array_hamil)\n",
    "idx = val.argsort()\n",
    "val = val[idx]\n",
    "vec = vec[:,idx].T\n",
    "exact_value = np.real(val[0])\n",
    "\n",
    "## HOA value\n",
    "list_approx_value = []\n",
    "#state = np.array([(2**N)**-0.5 for i in range(2**N)])\n",
    "state = np.random.rand(2**N)\n",
    "state = state/np.linalg.norm(state)\n",
    "HOA_hamil = H_Diff(S=S,delta=delta,hamiltonian=hamiltonian,K=1)\n",
    "for k in range(S):\n",
    "    state_k = H_Diff(S=S,delta=delta,hamiltonian=hamiltonian,K=k) @ state\n",
    "    state_k = state_k/np.linalg.norm(state_k)\n",
    "    approx_value = np.real(state_k.T @ HOA_hamil @ state_k)\n",
    "    list_approx_value.append(approx_value)\n",
    "print(list_approx_value)\n",
    "\n",
    "print(exact_value)\n",
    "\n",
    "##  ideal value\n",
    "list_ideal = []\n",
    "for k in range(S):\n",
    "    ideal_energy = (state.T @ power(array_hamil,2*k+1) @ state)/(state.T @ power(array_hamil,2*k) @ state)\n",
    "    list_ideal.append(np.real(ideal_energy))\n"
   ]
  },
  {
   "cell_type": "code",
   "execution_count": 6,
   "metadata": {},
   "outputs": [
    {
     "data": {
      "image/png": "[encoded data removed]",
      "text/plain": [
       "<Figure size 432x288 with 1 Axes>"
      ]
     },
     "metadata": {
      "needs_background": "light"
     },
     "output_type": "display_data"
    }
   ],
   "source": [
    "import matplotlib.pyplot as plt\n",
    "\n",
    "## ideal energy\n",
    "x=[i for i in range(S)]\n",
    "y=np.abs(np.array(list_ideal)-exact_value)\n",
    "plt.plot(x,y,color='red',label=\"ideal\")\n",
    "\n",
    "## HOA energy\n",
    "x=[i for i in range(S)]\n",
    "y=np.abs(np.array(list_approx_value)-exact_value)\n",
    "plt.plot(x,y,color='blue',label=\"HOA\")\n",
    "\n",
    "plt.title(\"Energy difference $\\Delta E$\",fontsize=20)\n",
    "plt.xlabel('$K$',fontsize=18)\n",
    "plt.ylabel('Energy Difference $\\Delta E ~ / ~ J$',fontsize=18)\n",
    "ax = plt.gca()\n",
    "ax.set_yscale('log')\n",
    "plt.grid([])\n",
    "plt.xticks([i for i in range(S)],fontsize=14)\n",
    "plt.yticks([10**(-2+i) for i in range(4)],fontsize=14)\n",
    "plt.legend(fontsize=16, loc='lower left')\n",
    "plt.show()"
   ]
  },
  {
   "cell_type": "markdown",
   "metadata": {},
   "source": [
    "### 注釈\n",
    "idealでは，HOAを使わず，Hamiltonianをそのまま代入して期待値を求めた．\n",
    "論文での結果と異なり，idealとHOAの結果が重なっていない．HOAの結果は論文に近いが，idealが論文と違うように見える．"
   ]
  },
  {
   "cell_type": "code",
   "execution_count": null,
   "metadata": {},
   "outputs": [],
   "source": []
  }
 ],
 "metadata": {
  "kernelspec": {
   "display_name": "Python 3",
   "language": "python",
   "name": "python3"
  },
  "language_info": {
   "codemirror_mode": {
    "name": "ipython",
    "version": 3
   },
   "file_extension": ".py",
   "mimetype": "text/x-python",
   "name": "python",
   "nbconvert_exporter": "python",
   "pygments_lexer": "ipython3",
   "version": "3.7.4"
  }
 },
 "nbformat": 4,
 "nbformat_minor": 4
}
