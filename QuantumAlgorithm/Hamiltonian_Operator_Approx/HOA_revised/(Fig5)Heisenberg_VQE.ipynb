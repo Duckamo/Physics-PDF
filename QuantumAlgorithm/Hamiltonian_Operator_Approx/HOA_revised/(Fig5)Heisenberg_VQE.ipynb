{
 "cells": [
  {
   "cell_type": "markdown",
   "metadata": {},
   "source": [
    "# VQEとVQE+HOAでHeisenberg Modelの基底エネルギーを求める"
   ]
  },
  {
   "cell_type": "code",
   "execution_count": 2,
   "metadata": {},
   "outputs": [],
   "source": [
    "from openfermion.linalg import get_sparse_operator\n",
    "from openfermion import QubitOperator\n",
    "from qulacs.observable import create_observable_from_openfermion_text\n",
    "from qulacs import QuantumState, QuantumCircuit\n",
    "from qulacs.state import inner_product\n",
    "from qulacs.gate import *\n",
    "import numpy as np\n",
    "from scipy.linalg import expm\n",
    "\n",
    "def HeisenbergQubitOperator(J,h,N):\n",
    "    \"\"\"\n",
    "    returns hamiotonian as openfermion.ops.operators.qubit_operator.QubitOperator\n",
    "    \"\"\"\n",
    "    hamiltonian = QubitOperator()\n",
    "    spin2_list = []\n",
    "    spin1_list = []\n",
    "\n",
    "    for i in range(N):\n",
    "        spin1_list.append(\"Z{}\".format(i))\n",
    "    for i in range(N-1):\n",
    "        for j in [\"X\",\"Y\",\"Z\"]:\n",
    "            spin2_list.append(\"{}{} {}{}\".format(j,i,j,i+1))\n",
    "    for i in range(N):\n",
    "        hamiltonian += -h*QubitOperator(spin1_list[i])\n",
    "    for i in range(3*(N-1)):\n",
    "        hamiltonian += -J*QubitOperator(spin2_list[i])\n",
    "    return hamiltonian\n",
    "\n",
    "def Heisenberg_Hamiltonian(J,h,N):\n",
    "    \"\"\"\n",
    "    returns Heisenberg hamiltonian as array\n",
    "    \"\"\"\n",
    "    hamiltonian = HeisenbergQubitOperator(J,h,N)\n",
    "    hamiltonian = get_sparse_operator(hamiltonian).toarray()\n",
    "    return hamiltonian"
   ]
  },
  {
   "cell_type": "markdown",
   "metadata": {},
   "source": [
    "## VQE (No HOA)"
   ]
  },
  {
   "cell_type": "code",
   "execution_count": 3,
   "metadata": {},
   "outputs": [],
   "source": [
    "J,h,N = 1,1,10\n",
    "depth = 1\n",
    "qulacs_hamiltonian = create_observable_from_openfermion_text(str(HeisenbergQubitOperator(J,h,N)))\n",
    "\n",
    "def HE_Ansatz_Circuit(N,depth,theta_list):\n",
    "    \"\"\"\n",
    "    Hardware Efficient Ansatz Circuit\n",
    "    \"\"\"\n",
    "    circuit = QuantumCircuit(N)\n",
    "    for d in range(depth):\n",
    "        for i in range(N):\n",
    "            circuit.add_gate(\n",
    "                merge(\n",
    "                    merge(RZ(i, theta_list[3*i+3*N*d]),RX(i, theta_list[3*i+1+3*N*d])),RZ(i, theta_list[3*i+2+2*N*d])\n",
    "                     ))\n",
    "        for i in range(N//2):\n",
    "            circuit.add_gate(CZ(2*i, 2*i+1))\n",
    "        for i in range(N//2-1):\n",
    "            circuit.add_gate(CZ(2*i+1, 2*i+2))\n",
    "    for i in range(N):\n",
    "        circuit.add_gate(merge(RX(i, theta_list[2*i+3*N*depth]), RZ(i, theta_list[2*i+1+3*N*depth])))\n",
    "    return circuit\n",
    "\n",
    "def cost(theta_list):\n",
    "    state = QuantumState(N)\n",
    "    circuit = HE_Ansatz_Circuit(N, depth, theta_list)\n",
    "    circuit.update_quantum_state(state)\n",
    "    return qulacs_hamiltonian.get_expectation_value(state)"
   ]
  },
  {
   "cell_type": "code",
   "execution_count": 4,
   "metadata": {},
   "outputs": [
    {
     "data": {
      "image/png": "[encoded data removed]",
      "text/plain": [
       "<Figure size 432x288 with 1 Axes>"
      ]
     },
     "metadata": {
      "needs_background": "light"
     },
     "output_type": "display_data"
    },
    {
     "name": "stdout",
     "output_type": "stream",
     "text": [
      "-19 -18.999999999804484\n"
     ]
    }
   ],
   "source": [
    "import numpy as np\n",
    "import matplotlib.pyplot as plt\n",
    "from scipy.optimize import minimize\n",
    "\n",
    "cost_history = []\n",
    "init_theta_list = np.random.random(N*(3*depth+2))*2*np.pi\n",
    "cost_history.append(cost(init_theta_list))\n",
    "method = \"BFGS\"\n",
    "options = {\"disp\": True, \"maxiter\": 100, \"gtol\": 1e-6}\n",
    "opt = minimize(cost, init_theta_list,\n",
    "               method=method,\n",
    "               callback=lambda x: cost_history.append(cost(x)))\n",
    "\n",
    "exact_energy = -J*(N-1)-h*N\n",
    "x = np.array([i+1 for i in range(len(cost_history))])\n",
    "y = np.array(cost_history)\n",
    "exact = np.array([exact_energy for i in range(len(cost_history))])\n",
    "\n",
    "plt.plot(x,y,color='red',label='VQE')\n",
    "plt.plot(x,exact,color='black',linestyle='--',label='Exact Energy')\n",
    "\n",
    "plt.title('Energy',size=18)#title\n",
    "plt.xlabel('Iterations',size=14)\n",
    "plt.ylabel('Energy expectation value',size=14)\n",
    "plt.grid()\n",
    "plt.xticks([5*i for i in range(len(x)//5+1)])\n",
    "plt.yticks()\n",
    "plt.legend(fontsize=16, loc='upper right')\n",
    "plt.show()\n",
    "\n",
    "print(exact_energy,cost_history[-1])"
   ]
  },
  {
   "cell_type": "markdown",
   "metadata": {},
   "source": [
    "### 考察\n",
    "論文中では少なくともdepthが20くらいないと収束しないような書き方がされているがdepthが1でも収束している様子だった．論文ではADAM(3000itr,学習率=0.001)を使っているのに対して上の実装ではBFGSを使っていることが関係しているのだろうか？"
   ]
  },
  {
   "cell_type": "markdown",
   "metadata": {},
   "source": [
    "## VQE+HOA"
   ]
  },
  {
   "cell_type": "code",
   "execution_count": 5,
   "metadata": {},
   "outputs": [],
   "source": [
    "def exp_zz(theta,target,control):\n",
    "    unitary = merge(CNOT(target,control),RZ(control,2*theta))\n",
    "    unitary = merge(unitary,CNOT(target,control))\n",
    "    return unitary\n",
    "\n",
    "def exp_xx(theta,target,control):\n",
    "    trans = merge(H(target),H(control))\n",
    "    unitary = merge(trans,exp_zz(theta,target,control))\n",
    "    unitary = merge(unitary,trans)\n",
    "    return unitary\n",
    "\n",
    "def exp_yy(theta,target,control):\n",
    "    trans = merge(S(target),S(control))\n",
    "    ZZ = merge(Z(target),Z(control))\n",
    "    trans_conj = merge(ZZ,trans)\n",
    "    unitary = merge(trans,exp_xx(theta,target,control))\n",
    "    unitary = merge(unitary,trans_conj)\n",
    "    return unitary\n",
    "\n",
    "def T_Heisenberg_Gate(J,h,N,r,t):\n",
    "    \"\"\"\n",
    "    returns: exponential of Heisenberg Hamiltonian as `qulacs.QuantumGateBase`\n",
    "    \"\"\"\n",
    "    unitary = Identity(0)\n",
    "    theta_J = J/(2*r)*t\n",
    "    theta_h = h/r*t\n",
    "    for step in range(r):\n",
    "        for i in range(N-1):\n",
    "            unitary = merge(unitary,exp_xx(theta_J,i,i+1))\n",
    "            unitary = merge(unitary,exp_yy(theta_J,i,i+1))\n",
    "            unitary = merge(unitary,exp_zz(theta_J,i,i+1))\n",
    "        for i in range(N):\n",
    "            unitary = merge(unitary,(RZ(i,theta_h*2)))\n",
    "        for i in range(N-1):\n",
    "            unitary = merge(unitary,exp_zz(theta_J,i,i+1))\n",
    "            unitary = merge(unitary,exp_yy(theta_J,i,i+1))\n",
    "            unitary = merge(unitary,exp_xx(theta_J,i,i+1))\n",
    "    return unitary\n",
    "\n",
    "def Derive_q(S:int):\n",
    "    \"\"\"\n",
    "    solve Simultaneous equations\n",
    "    returns vector q as numpy.array\n",
    "    \"\"\"\n",
    "    s = (S-1)/2\n",
    "    M = []\n",
    "    D = [0]*S\n",
    "    D[1] = 1\n",
    "    for i in range(S):\n",
    "        M.append([])\n",
    "        for j in range(S):\n",
    "            M[-1].append((-s+j)**(i))\n",
    "    M = np.array(M)\n",
    "    q = np.linalg.inv(M)@D\n",
    "    return q\n",
    "\n",
    "def Trotter_Heisenberg_HOA(J,h,N,r,s_max,delta):\n",
    "    veq_q = Derive_q(S=s_max)\n",
    "    s=(s_max-1)/2\n",
    "    hamiltonian = veq_q[0]*T_Heisenberg_Gate(J,h,N,r,-s*delta).get_matrix()\n",
    "    for i in range(1,s_max):\n",
    "        hamiltonian += veq_q[i]*T_Heisenberg_Gate(J,h,N,r,(-s+i)*delta).get_matrix()\n",
    "    return (1j/delta)*hamiltonian\n"
   ]
  },
  {
   "cell_type": "code",
   "execution_count": 6,
   "metadata": {},
   "outputs": [
    {
     "data": {
      "image/png": "[encoded data removed]",
      "text/plain": [
       "<Figure size 432x288 with 1 Axes>"
      ]
     },
     "metadata": {
      "needs_background": "light"
     },
     "output_type": "display_data"
    },
    {
     "name": "stdout",
     "output_type": "stream",
     "text": [
      "-15 -14.999999993902787\n"
     ]
    }
   ],
   "source": [
    "r,s_max,delta = 7,9,0.01\n",
    "N=8\n",
    "hamiltonain = DenseMatrix([i for i in range(N)],Trotter_Heisenberg_HOA(J,h,N,r,s_max,delta))\n",
    "\n",
    "def cost_HOA(theta_list):\n",
    "    bra = QuantumState(N)\n",
    "    ket = QuantumState(N)\n",
    "    circuit = HE_Ansatz_Circuit(N, depth, theta_list)\n",
    "    circuit.update_quantum_state(bra)\n",
    "    circuit.update_quantum_state(ket)\n",
    "    hamiltonain.update_quantum_state(ket)\n",
    "    return np.real(inner_product(bra,ket))\n",
    "\n",
    "\n",
    "cost_history = []\n",
    "init_theta_list = np.random.random(N*(3*depth+2))*2*np.pi\n",
    "cost_history.append(cost(init_theta_list))\n",
    "method = \"BFGS\"\n",
    "options = {\"disp\": True, \"maxiter\": 100, \"gtol\": 1e-6}\n",
    "opt = minimize(cost_HOA, init_theta_list,\n",
    "               method=method,\n",
    "               callback=lambda x: cost_history.append(cost_HOA(x)))\n",
    "\n",
    "exact_energy = -J*(N-1)-h*N\n",
    "x = np.array([i+1 for i in range(len(cost_history))])\n",
    "y = np.array(cost_history)\n",
    "exact = np.array([exact_energy for i in range(len(cost_history))])\n",
    "\n",
    "plt.plot(x,y,color='red',label='VQE')\n",
    "plt.plot(x,exact,color='black',linestyle='--',label='Exact Energy')\n",
    "\n",
    "plt.title('Energy',size=18)#title\n",
    "plt.xlabel('Iterations',size=14)\n",
    "plt.ylabel('Energy expectation value',size=14)\n",
    "plt.grid()\n",
    "plt.xticks([5*i for i in range(len(x)//5+1)])\n",
    "plt.yticks()\n",
    "plt.legend(fontsize=16, loc='upper right')\n",
    "plt.show()\n",
    "\n",
    "print(exact_energy,cost_history[-1])"
   ]
  },
  {
   "cell_type": "code",
   "execution_count": null,
   "metadata": {},
   "outputs": [],
   "source": []
  }
 ],
 "metadata": {
  "kernelspec": {
   "display_name": "Python 3",
   "language": "python",
   "name": "python3"
  },
  "language_info": {
   "codemirror_mode": {
    "name": "ipython",
    "version": 3
   },
   "file_extension": ".py",
   "mimetype": "text/x-python",
   "name": "python",
   "nbconvert_exporter": "python",
   "pygments_lexer": "ipython3",
   "version": "3.7.4"
  }
 },
 "nbformat": 4,
 "nbformat_minor": 4
}
