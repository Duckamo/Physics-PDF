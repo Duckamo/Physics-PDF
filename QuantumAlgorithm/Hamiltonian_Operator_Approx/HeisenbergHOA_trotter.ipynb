{
 "cells": [
  {
   "cell_type": "markdown",
   "metadata": {},
   "source": [
    "# Heisenberg Model HOA + Trotter \n",
    "\n",
    "Uniform状態$\\left|+\\right>^N$におけるHeisenberg Modelハミルトニアンのエネルギー期待値を， HOA + Trotterで計算する．"
   ]
  },
  {
   "cell_type": "code",
   "execution_count": 1,
   "metadata": {},
   "outputs": [],
   "source": [
    "from qulacs.observable import create_observable_from_openfermion_text\n",
    "from qulacs import QuantumState, QuantumCircuit\n",
    "from qulacs.state import inner_product\n",
    "from qulacs.gate import *\n",
    "import numpy as np"
   ]
  },
  {
   "cell_type": "markdown",
   "metadata": {},
   "source": [
    "## パウリ回転行列とその他関数の定義\n",
    "\n",
    "### 回転行列\n",
    "J.Chem.Phys.137,224109 (2012)を参考に実装．\n",
    "なお，同様のことは以下のコマンドでできる．(ことに後から気付いた．)\n",
    "```python\n",
    "circuit.add_parametric_multi_Pauli_rotation_gate(target:list, pauli_ids:list, angle:float)\n",
    "```\n",
    "\n",
    "PRX.Quantum.2,030318 (2021)の論文ではMølmer Gateを定義してから`exp_yy`,`exp_zz`を作成していた．\n"
   ]
  },
  {
   "cell_type": "code",
   "execution_count": 2,
   "metadata": {},
   "outputs": [],
   "source": [
    "def exp_zz(theta,target,control):\n",
    "    unitary = merge(CNOT(target,control),RZ(control,2*theta))\n",
    "    unitary = merge(unitary,CNOT(target,control))\n",
    "    return unitary\n",
    "\n",
    "def exp_xx(theta,target,control):\n",
    "    trans = merge(H(target),H(control))\n",
    "    unitary = merge(trans,exp_zz(theta,target,control))\n",
    "    unitary = merge(unitary,trans)\n",
    "    return unitary\n",
    "\n",
    "def exp_yy(theta,target,control):\n",
    "    trans = merge(S(target),S(control))\n",
    "    ZZ = merge(Z(target),Z(control))\n",
    "    trans_conj = merge(ZZ,trans)\n",
    "    unitary = merge(trans,exp_xx(theta,target,control))\n",
    "    unitary = merge(unitary,trans_conj)\n",
    "    return unitary\n",
    "\n",
    "def T_Heisenberg(J,h,N,r,t):\n",
    "    circuit = QuantumCircuit(N)\n",
    "    theta_J = J/(2*r)*t\n",
    "    theta_h = h/r*t\n",
    "    for step in range(r):\n",
    "        for i in range(N-1):\n",
    "            circuit.add_gate(exp_xx(theta_J,i,i+1))\n",
    "            circuit.add_gate(exp_yy(theta_J,i,i+1))\n",
    "            circuit.add_gate(exp_zz(theta_J,i,i+1))\n",
    "        for i in range(N):\n",
    "            circuit.add_gate(RZ(i,theta_h*2))\n",
    "        for i in range(N-1):\n",
    "            circuit.add_gate(exp_zz(theta_J,i,i+1))\n",
    "            circuit.add_gate(exp_yy(theta_J,i,i+1))\n",
    "            circuit.add_gate(exp_xx(theta_J,i,i+1))\n",
    "    return circuit\n",
    "\n",
    "def Derive_q(S:int,s:float):\n",
    "    \"\"\"\n",
    "    solve Simultaneous equations\n",
    "    returns vector q as numpy.array\n",
    "    \"\"\"\n",
    "    M = []\n",
    "    D = [0]*S\n",
    "    D[1] = 1\n",
    "    for i in range(S):\n",
    "        M.append([])\n",
    "        for j in range(S):\n",
    "            M[-1].append((-s+j)**(i))\n",
    "    M = np.array(M)\n",
    "    q = np.linalg.inv(M)@D\n",
    "    return q\n",
    "\n",
    "def UniformState(N):\n",
    "    state = QuantumState(N)\n",
    "    for i in range(N):\n",
    "        H(i).update_quantum_state(state)\n",
    "    return state\n",
    "\n",
    "def Uniform_Expectation(circuit):\n",
    "    bra = UniformState(N)\n",
    "    ket = UniformState(N)\n",
    "    circuit.update_quantum_state(ket)\n",
    "    return inner_product(bra,ket)\n"
   ]
  },
  {
   "cell_type": "markdown",
   "metadata": {},
   "source": [
    "## Derive expectation\n",
    "\n",
    "Let the state be $\\left|+\\right>$. Then, the expectation will be\n",
    "\\begin{eqnarray}\n",
    "    \\left<+\\left|^n -J\\sum_{i=0}^{N-2}\\hat s_{i} \\cdot\\hat s_{i+1} - h\\sum_{i=0}^{N-1}\\hat Z_{i} \\right| + \\right>^n = -J(N-1).\n",
    "\\end{eqnarray}\n",
    "\n",
    "Below, $\\left|+\\right>$ is prepared by Hadamard Gate."
   ]
  },
  {
   "cell_type": "code",
   "execution_count": 3,
   "metadata": {},
   "outputs": [],
   "source": [
    "J,h,N,r=1,1,8,7\n",
    "\n",
    "def total_uniform_Expectation(J,h,N,r,delta,s_max):\n",
    "    s = (s_max-1)/2\n",
    "    veq_q = Derive_q(S=s_max,s=s)\n",
    "    Energy = 0\n",
    "    for i in range(s_max):\n",
    "        exp_hamil = T_Heisenberg(J=J,h=h,N=N,r=r,t=delta*(-s+i))\n",
    "        Energy += (1j/delta) * veq_q[i] * Uniform_Expectation(circuit=exp_hamil)\n",
    "    return np.real(Energy)\n",
    "\n",
    "#total_uniform_Expectation(J=J,h=h,N=N,r=r,delta=delta,s_max=s_max)\n",
    "\n",
    "Exact_uniform = -J*(N-1)"
   ]
  },
  {
   "cell_type": "code",
   "execution_count": 5,
   "metadata": {},
   "outputs": [
    {
     "data": {
      "image/png": "[encoded data removed]",
      "text/plain": [
       "<Figure size 432x288 with 1 Axes>"
      ]
     },
     "metadata": {
      "needs_background": "light"
     },
     "output_type": "display_data"
    }
   ],
   "source": [
    "import matplotlib.pyplot as plt\n",
    "\n",
    "list_S = [3,5,7,9,11]\n",
    "\n",
    "### delta_t = 1\n",
    "list_approx_value = []\n",
    "for s_max in list_S:\n",
    "    approx_value = total_uniform_Expectation(J=J,h=h,N=N,r=r,delta=1,s_max=s_max)\n",
    "    list_approx_value.append(np.real(approx_value))\n",
    "x=np.array(list_S)\n",
    "y=np.abs(np.array(list_approx_value)-Exact_uniform)\n",
    "plt.plot(x,y,color='red',label=\"$\\delta$ t = 1\")\n",
    "\n",
    "### delta_t = 0.1\n",
    "list_approx_value = []\n",
    "for s_max in list_S:\n",
    "    approx_value = total_uniform_Expectation(J=J,h=h,N=N,r=r,delta=0.1,s_max=s_max)\n",
    "    list_approx_value.append(np.real(approx_value))\n",
    "x=np.array(list_S)\n",
    "y=np.abs(np.array(list_approx_value)-Exact_uniform)\n",
    "plt.plot(x,y,color='blue',label=\"$\\delta$ t = 0.1\")\n",
    "\n",
    "### delta_t = 0.01\n",
    "list_approx_value = []\n",
    "for s_max in list_S:\n",
    "    approx_value = total_uniform_Expectation(J=J,h=h,N=N,r=r,delta=0.01,s_max=s_max)\n",
    "    list_approx_value.append(np.real(approx_value))\n",
    "x=np.array(list_S)\n",
    "y=np.abs(np.array(list_approx_value)-Exact_uniform)\n",
    "plt.plot(x,y,color='green',label=\"$\\delta$ t = 0.01\")\n",
    "\n",
    "### delta_t = 0.001\n",
    "list_approx_value = []\n",
    "for s_max in list_S:\n",
    "    approx_value = total_uniform_Expectation(J=J,h=h,N=N,r=r,delta=0.001,s_max=s_max)\n",
    "    list_approx_value.append(np.real(approx_value))\n",
    "x=np.array(list_S)\n",
    "y=np.abs(np.array(list_approx_value)-Exact_uniform)\n",
    "plt.plot(x,y,color='orange',label=\"$\\delta$ t = 0.001\")\n",
    "\n",
    "\n",
    "plt.title(\"Energy difference $\\Delta E$\",fontsize=20)\n",
    "plt.xlabel('S',fontsize=18)\n",
    "plt.ylabel('Energy Difference $\\Delta E ~ / ~ J$',fontsize=18)\n",
    "ax = plt.gca()\n",
    "ax.set_yscale('log')\n",
    "plt.grid([])\n",
    "plt.xticks(list_S,fontsize=14)\n",
    "plt.yticks(fontsize=14)\n",
    "plt.legend(fontsize=16, bbox_to_anchor=(1.05, 1))\n",
    "plt.show()"
   ]
  },
  {
   "cell_type": "code",
   "execution_count": null,
   "metadata": {},
   "outputs": [],
   "source": []
  }
 ],
 "metadata": {
  "kernelspec": {
   "display_name": "Python 3",
   "language": "python",
   "name": "python3"
  },
  "language_info": {
   "codemirror_mode": {
    "name": "ipython",
    "version": 3
   },
   "file_extension": ".py",
   "mimetype": "text/x-python",
   "name": "python",
   "nbconvert_exporter": "python",
   "pygments_lexer": "ipython3",
   "version": "3.7.4"
  }
 },
 "nbformat": 4,
 "nbformat_minor": 4
}
