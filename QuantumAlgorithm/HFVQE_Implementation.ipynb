{
 "cells": [
  {
   "cell_type": "markdown",
   "metadata": {},
   "source": [
    "# HFVQEの実装"
   ]
  },
  {
   "cell_type": "code",
   "execution_count": 1,
   "metadata": {},
   "outputs": [],
   "source": [
    "from qulacs import *\n",
    "from qulacs.gate import *\n",
    "from qulacs.state import *\n",
    "from scipy import stats\n",
    "from collections import Counter\n",
    "import numpy as np"
   ]
  },
  {
   "cell_type": "markdown",
   "metadata": {},
   "source": [
    "## 標的の情報"
   ]
  },
  {
   "cell_type": "code",
   "execution_count": 3,
   "metadata": {},
   "outputs": [],
   "source": [
    "import numpy as np\n",
    "import matplotlib.pyplot as plt\n",
    "from openfermion.chem import MolecularData\n",
    "from openfermion.transforms import get_fermion_operator, jordan_wigner\n",
    "from openfermionpyscf import run_pyscf\n",
    "from pyscf import fci"
   ]
  },
  {
   "cell_type": "code",
   "execution_count": 4,
   "metadata": {},
   "outputs": [],
   "source": [
    "## basis,multiplicity,charge,geometry(原子種と原子の位置),descriptionを定義する．\n",
    "basis = \"sto-3g\"\n",
    "multiplicity = 1\n",
    "charge = 0\n",
    "distance  = 0.74\n",
    "geometry = [[\"H\", [0,0,0]],[\"H\", [0,0,distance]]]\n",
    "description  = \"tmp\""
   ]
  },
  {
   "cell_type": "code",
   "execution_count": 5,
   "metadata": {},
   "outputs": [],
   "source": [
    "## OpenFermionのmolecular-dataを読み取る\n",
    "molecule = MolecularData(geometry, basis, multiplicity, charge, description) #openfermionのMolecularDataをもとに\n",
    "molecule = run_pyscf(molecule,run_scf=1,run_fci=1)\n",
    "\n",
    "## ハミルトニアンを生成する．\n",
    "fermionic_hamiltonian = get_fermion_operator(molecule.get_molecular_hamiltonian())\n",
    "jw_hamiltonian = jordan_wigner(fermionic_hamiltonian)\n",
    "\n",
    "## ハミルトニアンをQulacsに使える形に直す\n",
    "from qulacs import Observable\n",
    "from qulacs.observable import *\n",
    "qulacs_hamiltonian = create_observable_from_openfermion_text(str(jw_hamiltonian))\n",
    "\n",
    "nqubit,nelectron = molecule.n_qubits,molecule.n_electrons"
   ]
  },
  {
   "cell_type": "markdown",
   "metadata": {},
   "source": [
    "## HF,FCIによる基底エネルギー"
   ]
  },
  {
   "cell_type": "code",
   "execution_count": 6,
   "metadata": {},
   "outputs": [
    {
     "name": "stdout",
     "output_type": "stream",
     "text": [
      "HF Energy: -1.1167593073964248 eV\n",
      "Exact Energy: -1.137283834488502 eV\n"
     ]
    }
   ],
   "source": [
    "### Hartree Fock State\n",
    "def HF_state(nqubit,nelectron):\n",
    "    state = QuantumState(nqubit)\n",
    "    circuit = QuantumCircuit(nqubit)\n",
    "    for i in range(nelectron):\n",
    "        circuit.add_gate(X(i))\n",
    "    circuit.update_quantum_state(state)\n",
    "    return state\n",
    "\n",
    "hf_energy = qulacs_hamiltonian.get_expectation_value(HF_state(nqubit,nelectron))\n",
    "print(\"HF Energy: {} eV\".format(hf_energy))\n",
    "\n",
    "### FCI\n",
    "exact_energy = molecule.fci_energy\n",
    "print(\"Exact Energy: {} eV\".format(exact_energy))"
   ]
  },
  {
   "cell_type": "markdown",
   "metadata": {},
   "source": [
    "## HFVQEの実装"
   ]
  },
  {
   "cell_type": "code",
   "execution_count": 7,
   "metadata": {},
   "outputs": [],
   "source": [
    "import numpy as np\n",
    "def Gate(gate,n):\n",
    "    \"\"\"\n",
    "    change type of gate\n",
    "    \"\"\"\n",
    "    return merge(gate,Identity(n))\n",
    "\n",
    "def ctrl_gate(U,c):\n",
    "    \"\"\"\n",
    "    control gate\n",
    "    \"\"\"\n",
    "    return add(P0(c),merge(P1(c),U))\n",
    "\n",
    "def U1ex(theta,phi,m,n):\n",
    "    \"\"\"\n",
    "    exchange gate defined by PHYSICAL REVIEW A 98, 022322 (2018)\n",
    "    \"\"\"\n",
    "    u_a = Gate(X(n),n)\n",
    "    u_a.multiply_scalar(np.exp(-1j*phi))\n",
    "    u_b1 = Gate(Z(m),m)\n",
    "    u_b1.multiply_scalar(np.cos(theta))\n",
    "    u_b2 = Gate(X(m),m)\n",
    "    u_b2.multiply_scalar(np.sin(theta))\n",
    "    u_b = add (u_b1,u_b2)\n",
    "    u_c = Gate(X(n),n)\n",
    "    u_c.multiply_scalar(np.exp(1j*phi))\n",
    "    ex_gate = merge(merge(ctrl_gate(u_a,m),ctrl_gate(u_b,n)),ctrl_gate(u_c,m))\n",
    "    return ex_gate\n",
    "\n",
    "def U2ex(theta,m,n):\n",
    "    \"\"\"\n",
    "    exchange gate defined by PHYSICAL REVIEW A 98, 022322 (2018)\n",
    "    \"\"\"\n",
    "    u_a = Gate(X(n),n)\n",
    "    u_a.multiply_scalar(1)\n",
    "    u_b1 = Gate(Identity(m),m)\n",
    "    u_b1.multiply_scalar(np.cos(2*theta))\n",
    "    u_b2 = Gate(X(m),m)\n",
    "    u_b2.multiply_scalar(np.sin(2*theta)*-1j)\n",
    "    u_b = add (u_b1,u_b2)\n",
    "    u_c = Gate(X(n),n)\n",
    "    u_c.multiply_scalar(1)\n",
    "    ex_gate = merge(merge(ctrl_gate(u_a,m),ctrl_gate(u_b,n)),ctrl_gate(u_c,m))\n",
    "    return ex_gate\n",
    "\n",
    "#print(U1ex(0.3,0.2,0,1))\n",
    "#print(U2ex(0.3,0,1))"
   ]
  },
  {
   "cell_type": "code",
   "execution_count": 8,
   "metadata": {},
   "outputs": [],
   "source": [
    "from scipy.optimize import minimize\n",
    "depth = nqubit\n",
    "S=0.9997\n",
    "\n",
    "### Layerの実装 U1exを用いたものを使ってみる\n",
    "def circuit_entangler(depth,nqubit,theta_list):\n",
    "    \"\"\"\n",
    "    entangelers defined using exchange gates.\n",
    "    (Ref: PHYSICAL REVIEW A 98, 022322 (2018))\n",
    "    \"\"\"\n",
    "    circuit = QuantumCircuit(nqubit)\n",
    "    for d in range(depth):\n",
    "        for n in range(1,nqubit):\n",
    "            circuit.add_gate(ctrl_gate(U1ex(theta_list[d*nqubit+2*n],theta_list[d*nqubit+2*n+1],n-1,n),0))\n",
    "    return circuit\n",
    "\n",
    "### 最適化\n",
    "def cost(theta_list):\n",
    "    \"\"\"\n",
    "    cost function for CBVQE. (To be discussed.)\n",
    "    \"\"\"\n",
    "    ## <ψq|H|ψq>の計算\n",
    "    Qstate = HF_state(nqubit,nelectron) #|00000> を準備\n",
    "    circuit = circuit_entangler(depth,nqubit,theta_list) #量子回路を構成\n",
    "    circuit.update_quantum_state(Qstate) #量子回路を状態に作用\n",
    "    E_qq = qulacs_hamiltonian.get_expectation_value(Qstate)\n",
    "    ## <ψq|H|ψcl>の計算\n",
    "    E_qcl = qulacs_hamiltonian.get_transition_amplitude(HF_state(nqubit,nelectron), Qstate)\n",
    "    return  ((1-S**2)*E_qq + 2*S*(1-S**2)**0.5*E_qcl + S**2*hf_energy).real #ハミルトニアンの期待値を計算\n",
    "\n",
    "cost_history = []\n",
    "theta_list = np.random.rand(2*depth*(nqubit-1))\n",
    "cost_history.append(cost(theta_list))\n",
    "\n",
    "#print(cost(theta_list),theta_list,hf_state)\n",
    "method = \"BFGS\"\n",
    "options = {\"disp\": True, \"maxiter\": 50, \"gtol\": 1e-6}\n",
    "opt = minimize(cost, theta_list,\n",
    "               method=method,\n",
    "               callback=lambda x: cost_history.append(cost(x)))"
   ]
  },
  {
   "cell_type": "code",
   "execution_count": 9,
   "metadata": {},
   "outputs": [
    {
     "data": {
      "image/png": "[encoded data removed]",
      "text/plain": [
       "<Figure size 432x288 with 1 Axes>"
      ]
     },
     "metadata": {
      "needs_background": "light"
     },
     "output_type": "display_data"
    },
    {
     "name": "stdout",
     "output_type": "stream",
     "text": [
      "End. If no number above, then you might not reach to precision wanted.\n"
     ]
    }
   ],
   "source": [
    "plt.rcParams[\"font.size\"] = 18\n",
    "plt.plot(cost_history, color=\"red\", label=\"HFVQE\")\n",
    "plt.plot(range(len(cost_history)), [exact_energy]*len(cost_history), linestyle=\"dashed\", color=\"black\", label=\"Exact Solution\")\n",
    "plt.xlabel(\"Iteration\")\n",
    "plt.ylabel(\"Energy expectation value\")\n",
    "plt.ylim([exact_energy*1.1,exact_energy*0.9])\n",
    "plt.legend()\n",
    "plt.show()\n",
    "\n",
    "presision=0.0001\n",
    "\n",
    "for i in range(len(cost_history)):\n",
    "    if abs(cost_history[i]-exact_energy)<presision:\n",
    "        print(i+1)\n",
    "        break\n",
    "print(\"End. If no number above, then you might not reach to precision wanted.\")"
   ]
  },
  {
   "cell_type": "markdown",
   "metadata": {},
   "source": [
    "## 参考文献\n",
    "arXiv:2106.04755v1 <br>\n",
    "Quantum Native Dojo VQE. chap6-2 <br>\n",
    "PHYSICAL REVIEW A 98, 022322 (2018)"
   ]
  },
  {
   "cell_type": "markdown",
   "metadata": {},
   "source": [
    "## 疑問点\n",
    "1.\n",
    "\\begin{eqnarray}\n",
    "    \\left|\\psi_G\\right> = S\\left|\\psi_{cl}\\right> + \\sqrt{1-S^2}\\left|\\psi_{q}\\right>\n",
    "\\end{eqnarray}\n",
    "でSをどのようにして定義するかが分からかった．そのため，コスト関数の定義以降の議論は誤っている可能性がある．\n",
    "\n",
    "2.\n",
    "また，測定回数というのがアダマールテストの測定回数なのか，Iterationの回数なのかが論文に明示されていないように思った．\n",
    "\n",
    "3.\n",
    "Qubitの数をどのようにして指定するかが(基底を変更する以外の方法で)分からなかった．"
   ]
  },
  {
   "cell_type": "code",
   "execution_count": null,
   "metadata": {},
   "outputs": [],
   "source": []
  }
 ],
 "metadata": {
  "kernelspec": {
   "display_name": "Python 3",
   "language": "python",
   "name": "python3"
  },
  "language_info": {
   "codemirror_mode": {
    "name": "ipython",
    "version": 3
   },
   "file_extension": ".py",
   "mimetype": "text/x-python",
   "name": "python",
   "nbconvert_exporter": "python",
   "pygments_lexer": "ipython3",
   "version": "3.7.4"
  }
 },
 "nbformat": 4,
 "nbformat_minor": 4
}