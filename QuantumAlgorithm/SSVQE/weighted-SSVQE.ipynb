{
 "cells": [
  {
   "cell_type": "code",
   "execution_count": 2,
   "metadata": {},
   "outputs": [],
   "source": [
    "import numpy as np\n",
    "import matplotlib.pyplot as plt\n",
    "from openfermion.chem import MolecularData\n",
    "from openfermion.transforms import get_fermion_operator, jordan_wigner\n",
    "from openfermion.linalg import get_sparse_operator\n",
    "from openfermion.ops import FermionOperator\n",
    "from openfermionpyscf import run_pyscf\n",
    "from pyscf import fci\n",
    "from qulacs import Observable, QuantumState, QuantumCircuit\n",
    "from qulacs.observable import create_observable_from_openfermion_text\n",
    "from qulacs.gate import X,Y,Z,H,RZ,RX,CZ,merge\n",
    "\n",
    "from scipy.optimize import minimize\n",
    "import matplotlib.pyplot as plt"
   ]
  },
  {
   "cell_type": "markdown",
   "metadata": {},
   "source": [
    "## ハミルトニアンの計算\n",
    "JW変換で分子のハミルトニアンを計算して，固有値を計算した"
   ]
  },
  {
   "cell_type": "code",
   "execution_count": 3,
   "metadata": {},
   "outputs": [
    {
     "name": "stdout",
     "output_type": "stream",
     "text": [
      "{'HF energy': -1.116684387085341, 'FCI energy': -1.137270174660903}\n",
      "4 2\n",
      "[(-1.1372701746609022+0j), (-0.5387095798772804+0j), (-0.5387095798772803+0j), (-0.5324790068861721+0j), (-0.5324790068861721+0j), (-0.532479006886172+0j), (-0.44698571767066353+0j), (-0.44698571767066353+0j), (-0.16990139046317976+0j), (0.23780527846665392+0j), (0.23780527846665397+0j), (0.3524341417394601+0j), (0.3524341417394601+0j), (0.47983611824427963+0j), (0.7137539936876182+0j), (0.9201067191670409+0j)]\n"
     ]
    }
   ],
   "source": [
    "def H_chain_geometry(N:int,d:int)->list:\n",
    "    \"\"\"\n",
    "    return H chain geometry as list\n",
    "    \"\"\"\n",
    "    geometry = []\n",
    "    for i in range(N):\n",
    "        geometry.append([\"H\",[0,0,round(d*i,5)]])\n",
    "    return geometry\n",
    "\n",
    "def HE_Ansatz_Circuit(N,depth,theta_list):\n",
    "    \"\"\"\n",
    "    Hardware Efficient Ansatz Circuit\n",
    "    \"\"\"\n",
    "    circuit = QuantumCircuit(N)\n",
    "    for d in range(depth):\n",
    "        for i in range(N):\n",
    "            circuit.add_gate(\n",
    "                merge(\n",
    "                    merge(RZ(i, theta_list[3*i+3*N*d]),RX(i, theta_list[3*i+1+3*N*d])),RZ(i, theta_list[3*i+2+2*N*d])\n",
    "                     ))\n",
    "        for i in range(N//2):\n",
    "            circuit.add_gate(CZ(2*i, 2*i+1))\n",
    "        for i in range(N//2-1):\n",
    "            circuit.add_gate(CZ(2*i+1, 2*i+2))\n",
    "    for i in range(N):\n",
    "        circuit.add_gate(merge(RX(i, theta_list[2*i+3*N*depth]), RZ(i, theta_list[2*i+1+3*N*depth])))\n",
    "    return circuit\n",
    "\n",
    "## get expectation values\n",
    "def expectation(state,theta_list):\n",
    "    circuit = HE_Ansatz_Circuit(nqubit, depth, theta_list)\n",
    "    circuit.update_quantum_state(state)\n",
    "    return qulacs_hamiltonian.get_expectation_value(state)\n",
    "\n",
    "## Cost Function\n",
    "def cost(theta_list:list):\n",
    "    weight_list = [k-i for i in range(nqubit)]\n",
    "    ans=0\n",
    "    for i in range(k):\n",
    "        state = QuantumState(nqubit)\n",
    "        state.set_computational_basis(i)\n",
    "        expec = expectation(state,theta_list)\n",
    "        ans += weight_list[i] * expec\n",
    "    return ans\n",
    "\n",
    "\n",
    "geometry = H_chain_geometry(N=2,d=0.7414)\n",
    "basis = \"sto-3g\"\n",
    "multiplicity = 1\n",
    "charge = 0\n",
    "\n",
    "molecule=MolecularData(geometry,basis,multiplicity,charge)\n",
    "molecule = run_pyscf(molecule,run_scf=1,run_fci=1)\n",
    "nqubit,nelectron = molecule.n_qubits,molecule.n_electrons\n",
    "\n",
    "fermionic_hamiltonian = get_fermion_operator(molecule.get_molecular_hamiltonian())\n",
    "jw_hamiltonian = jordan_wigner(fermionic_hamiltonian)\n",
    "jw_hamiltonian_array=get_sparse_operator(jw_hamiltonian).toarray()\n",
    "qulacs_hamiltonian = create_observable_from_openfermion_text(str(jw_hamiltonian))\n",
    "\n",
    "hf_energy= molecule.hf_energy\n",
    "fci_energy= molecule.fci_energy\n",
    "print({\"HF energy\": hf_energy, \"FCI energy\": fci_energy})\n",
    "print(nqubit,nelectron)\n",
    "\n",
    "exact_energy_list = sorted(np.linalg.eigvals(jw_hamiltonian_array))\n",
    "print(exact_energy_list)"
   ]
  },
  {
   "cell_type": "markdown",
   "metadata": {},
   "source": [
    "## Ansatz and optimization "
   ]
  },
  {
   "cell_type": "code",
   "execution_count": 4,
   "metadata": {},
   "outputs": [],
   "source": [
    "## Optimizations\n",
    "depth=nqubit\n",
    "k = 3\n",
    "\n",
    "energy_history_list = []\n",
    "\n",
    "\n",
    "init_theta_list = np.random.random(nqubit*(3*depth+2))*2*np.pi\n",
    "\n",
    "method = \"BFGS\"\n",
    "\n",
    "options = {\"disp\": True, \"maxiter\": 100, \"gtol\": 1e-4}\n",
    "def callback(theta_list):\n",
    "    if len(energy_history_list)==0:\n",
    "        for i in range(k):\n",
    "            energy_history_list.append([])\n",
    "    for i in range(k):\n",
    "        state=QuantumState(nqubit)\n",
    "        state.set_computational_basis(i)\n",
    "        energy_history_list[i].append(expectation(state,theta_list))\n",
    "    #print(len(energy_history_list[0]),[energy_history_list[i][-1] for i in range(k)])\n",
    "    \n",
    "opt = minimize(cost, init_theta_list,\n",
    "               method=method,\n",
    "               callback=callback)"
   ]
  },
  {
   "cell_type": "code",
   "execution_count": 5,
   "metadata": {},
   "outputs": [
    {
     "name": "stderr",
     "output_type": "stream",
     "text": [
      "/Users/masahikokamoshita/opt/anaconda3/lib/python3.7/site-packages/numpy/core/_asarray.py:85: ComplexWarning: Casting complex values to real discards the imaginary part\n",
      "  return array(a, dtype, copy=False, order=order)\n",
      "/Users/masahikokamoshita/opt/anaconda3/lib/python3.7/site-packages/numpy/core/_asarray.py:85: ComplexWarning: Casting complex values to real discards the imaginary part\n",
      "  return array(a, dtype, copy=False, order=order)\n",
      "/Users/masahikokamoshita/opt/anaconda3/lib/python3.7/site-packages/numpy/core/_asarray.py:85: ComplexWarning: Casting complex values to real discards the imaginary part\n",
      "  return array(a, dtype, copy=False, order=order)\n"
     ]
    },
    {
     "data": {
      "image/png": "[encoded data removed]",
      "text/plain": [
       "<Figure size 432x288 with 1 Axes>"
      ]
     },
     "metadata": {
      "needs_background": "light"
     },
     "output_type": "display_data"
    },
    {
     "name": "stdout",
     "output_type": "stream",
     "text": [
      "-1.137270174660903 [-1.1346702512497788, -0.5339742290879681, -0.5339742290811746]\n"
     ]
    }
   ],
   "source": [
    "n_itr = len(energy_history_list[0])\n",
    "x = np.array([i+1 for i in range(n_itr)])\n",
    "\n",
    "for i in range(k):\n",
    "    plt.plot(x,energy_history_list[i],color='red',label='VQE $|{}>$'.format(bin(i)[2:].zfill(nqubit)))\n",
    "    plt.plot(x,np.array([exact_energy_list[i] for j in range(n_itr)]),color='black',linestyle='--',label='Exact E$_{}$'.format(i))\n",
    "\n",
    "plt.title('Energy',size=18)#title\n",
    "plt.xlabel('Iterations',size=14)\n",
    "plt.ylabel('Energy expectation value',size=14)\n",
    "plt.grid()\n",
    "plt.xticks([100*i for i in range(len(x)//100+1)])\n",
    "plt.yticks()\n",
    "plt.legend(bbox_to_anchor=(1.05, 1),borderaxespad=1,fontsize=16, loc='upper left')\n",
    "plt.show()\n",
    "\n",
    "print(fci_energy,[energy_history_list[i][-1] for i in range(3)])"
   ]
  },
  {
   "cell_type": "code",
   "execution_count": null,
   "metadata": {},
   "outputs": [],
   "source": []
  }
 ],
 "metadata": {
  "kernelspec": {
   "display_name": "Python 3",
   "language": "python",
   "name": "python3"
  },
  "language_info": {
   "codemirror_mode": {
    "name": "ipython",
    "version": 3
   },
   "file_extension": ".py",
   "mimetype": "text/x-python",
   "name": "python",
   "nbconvert_exporter": "python",
   "pygments_lexer": "ipython3",
   "version": "3.7.4"
  }
 },
 "nbformat": 4,
 "nbformat_minor": 4
}
