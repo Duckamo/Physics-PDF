{
 "cells": [
  {
   "cell_type": "markdown",
   "metadata": {},
   "source": [
    "# Hartree Fock State Energy\n",
    "ハートリーフォック近似によって得られるエネルギーの値を，第二量子化の方法を使ってpythonで計算する．"
   ]
  },
  {
   "cell_type": "code",
   "execution_count": 2,
   "metadata": {},
   "outputs": [],
   "source": [
    "from qulacs import *\n",
    "from qulacs.gate import *\n",
    "from qulacs.state import *\n",
    "from openfermion.chem import MolecularData\n",
    "from openfermion.transforms import get_fermion_operator, jordan_wigner\n",
    "from openfermionpyscf import run_pyscf\n",
    "from pyscf import fci"
   ]
  },
  {
   "cell_type": "code",
   "execution_count": 3,
   "metadata": {},
   "outputs": [],
   "source": [
    "## basis,multiplicity,charge,geometry(原子種と原子の位置),descriptionを定義する．\n",
    "basis = \"sto-3g\"\n",
    "multiplicity = 1\n",
    "charge = 0\n",
    "distance  = 0.7414 #Å単位\n",
    "geometry = [[\"H\", [0,0,0]],[\"H\", [0,0,distance]]]\n",
    "description  = \"tmp\""
   ]
  },
  {
   "cell_type": "code",
   "execution_count": 4,
   "metadata": {},
   "outputs": [
    {
     "name": "stdout",
     "output_type": "stream",
     "text": [
      "4 2\n"
     ]
    }
   ],
   "source": [
    "## OpenFermionのmolecular-dataを読み取る\n",
    "molecule = MolecularData(geometry, basis, multiplicity, charge, description) #openfermionのMolecularDataをもとに\n",
    "molecule = run_pyscf(molecule,run_scf=1,run_fci=1)\n",
    "\n",
    "## ハミルトニアンを生成する．\n",
    "fermionic_hamiltonian = get_fermion_operator(molecule.get_molecular_hamiltonian())\n",
    "jw_hamiltonian = jordan_wigner(fermionic_hamiltonian)\n",
    "\n",
    "## ハミルトニアンをQulacsに使える形に直す\n",
    "from qulacs import Observable\n",
    "from qulacs.observable import *\n",
    "qulacs_hamiltonian = create_observable_from_openfermion_text(str(jw_hamiltonian))\n",
    "\n",
    "nqubit,nelectron = molecule.n_qubits,molecule.n_electrons\n",
    "print(nqubit,nelectron)"
   ]
  },
  {
   "cell_type": "code",
   "execution_count": 5,
   "metadata": {},
   "outputs": [
    {
     "name": "stdout",
     "output_type": "stream",
     "text": [
      "HF Energy: -1.116684387085341 Hartree\n",
      "Exact Energy: -1.1372701746609035 Hartree\n"
     ]
    }
   ],
   "source": [
    "### Hartree Fock State\n",
    "def HF_state(nqubit,nelectron):\n",
    "    state = QuantumState(nqubit)\n",
    "    circuit = QuantumCircuit(nqubit)\n",
    "    for i in range(nelectron):\n",
    "        circuit.add_gate(X(i))\n",
    "    circuit.update_quantum_state(state)\n",
    "    return state\n",
    "\n",
    "hf_energy = qulacs_hamiltonian.get_expectation_value(HF_state(nqubit,nelectron))\n",
    "print(\"HF Energy: {} Hartree\".format(hf_energy))\n",
    "\n",
    "### FCI\n",
    "exact_energy = molecule.fci_energy\n",
    "print(\"Exact Energy: {} Hartree\".format(exact_energy))"
   ]
  },
  {
   "cell_type": "markdown",
   "metadata": {},
   "source": [
    "## 結果\n",
    "H$_2$ 結合距離0.7414Å HF Energy:-1.116684387085341 Hartree,Exact Energy:-1.1372701746609035 Hartree<br>\n",
    "N$_2$ 結合距離1.0977Å HF Energy:-107.49589330783462 Hartree,Exact Energy:-107.4958933009819 Hartree<br>\n",
    "O$_2$ 結合距離1.2075Å HF Energy:-147.55109386392724 Hartree,Exact Energy:-147.74403543362024 Hartree"
   ]
  }
 ],
 "metadata": {
  "kernelspec": {
   "display_name": "Python 3",
   "language": "python",
   "name": "python3"
  },
  "language_info": {
   "codemirror_mode": {
    "name": "ipython",
    "version": 3
   },
   "file_extension": ".py",
   "mimetype": "text/x-python",
   "name": "python",
   "nbconvert_exporter": "python",
   "pygments_lexer": "ipython3",
   "version": "3.7.4"
  }
 },
 "nbformat": 4,
 "nbformat_minor": 4
}