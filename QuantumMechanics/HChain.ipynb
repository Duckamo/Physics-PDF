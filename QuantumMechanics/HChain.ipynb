{
 "cells": [
  {
   "cell_type": "code",
   "execution_count": 2,
   "metadata": {},
   "outputs": [],
   "source": [
    "from qulacs import *\n",
    "from qulacs.gate import *\n",
    "from qulacs.state import *\n",
    "from openfermion.chem import MolecularData\n",
    "from openfermion.transforms import get_fermion_operator, jordan_wigner\n",
    "from openfermionpyscf import run_pyscf\n",
    "from pyscf import fci"
   ]
  },
  {
   "cell_type": "code",
   "execution_count": 3,
   "metadata": {},
   "outputs": [
    {
     "name": "stdout",
     "output_type": "stream",
     "text": [
      "8 4\n",
      "HF Energy: -2.098694001099146 Hartree\n",
      "Exact Energy: -2.139799644722612 Hartree\n"
     ]
    }
   ],
   "source": [
    "## basis,multiplicity,charge,geometry(原子種と原子の位置),descriptionを定義する．\n",
    "basis = \"sto-3g\"\n",
    "multiplicity = 1\n",
    "charge = 0\n",
    "distance  = 0.7414 #Å単位\n",
    "geometry = [[\"H\",[0,0,0]],[\"H\",[0,0,distance]],[\"H\",[0,0,distance*2]],[\"H\",[0,0,distance*3]]]\n",
    "description  = \"tmp\"\n",
    "\n",
    "from qulacs import Observable\n",
    "from qulacs.observable import *\n",
    "\n",
    "## OpenFermionのmolecular-dataを読み取る\n",
    "molecule = MolecularData(geometry, basis, multiplicity, charge, description) #openfermionのMolecularDataをもとに\n",
    "molecule = run_pyscf(molecule,run_scf=1,run_fci=1)\n",
    "\n",
    "## ハミルトニアンを生成する．\n",
    "fermionic_hamiltonian = get_fermion_operator(molecule.get_molecular_hamiltonian())\n",
    "jw_hamiltonian = jordan_wigner(fermionic_hamiltonian)\n",
    "\n",
    "## ハミルトニアンをQulacsに使える形に直す\n",
    "qulacs_hamiltonian = create_observable_from_openfermion_text(str(jw_hamiltonian))\n",
    "\n",
    "nqubit,nelectron = molecule.n_qubits,molecule.n_electrons\n",
    "print(nqubit,nelectron)\n",
    "\n",
    "### Hartree Fock State\n",
    "def HF_state(nqubit,nelectron):\n",
    "    state = QuantumState(nqubit)\n",
    "    circuit = QuantumCircuit(nqubit)\n",
    "    for i in range(nelectron):\n",
    "        circuit.add_gate(X(i))\n",
    "    circuit.update_quantum_state(state)\n",
    "    return state\n",
    "\n",
    "hf_energy = qulacs_hamiltonian.get_expectation_value(HF_state(nqubit,nelectron))\n",
    "print(\"HF Energy: {} Hartree\".format(hf_energy))\n",
    "\n",
    "### FCI\n",
    "exact_energy = molecule.fci_energy\n",
    "print(\"Exact Energy: {} Hartree\".format(exact_energy))"
   ]
  },
  {
   "cell_type": "markdown",
   "metadata": {},
   "source": [
    "## ポテンシャル曲線"
   ]
  },
  {
   "cell_type": "code",
   "execution_count": 4,
   "metadata": {},
   "outputs": [],
   "source": [
    "def HF_state(nqubit,nelectron):\n",
    "    state = QuantumState(nqubit)\n",
    "    circuit = QuantumCircuit(nqubit)\n",
    "    for i in range(nelectron):\n",
    "        circuit.add_gate(X(i))\n",
    "    circuit.update_quantum_state(state)\n",
    "    return state\n",
    "\n",
    "\n",
    "def h_chain_potential(distance,h_num):\n",
    "    \"\"\"\n",
    "    calculate potential energy of molecule\n",
    "    distance unit is Å\n",
    "    \"\"\"\n",
    "    basis = \"sto-3g\"\n",
    "    multiplicity = 1\n",
    "    charge = 0\n",
    "    geometry = []\n",
    "    for h in range(h_num):\n",
    "        geometry.append([\"H\",[0,0,distance*h]])\n",
    "    description  = \"tmp\"\n",
    "    \n",
    "    ## OpenFermionのmolecular-dataを読み取る\n",
    "    molecule = MolecularData(geometry, basis, multiplicity, charge, description) #openfermionのMolecularDataをもとに\n",
    "    molecule = run_pyscf(molecule,run_scf=1,run_fci=1)\n",
    "    nqubit,nelectron = molecule.n_qubits,molecule.n_electrons\n",
    "    \n",
    "    ## ハミルトニアンを生成する．\n",
    "    fermionic_hamiltonian = get_fermion_operator(molecule.get_molecular_hamiltonian())\n",
    "    jw_hamiltonian = jordan_wigner(fermionic_hamiltonian)\n",
    "    qulacs_hamiltonian = create_observable_from_openfermion_text(str(jw_hamiltonian))\n",
    "    hf_energy = qulacs_hamiltonian.get_expectation_value(HF_state(nqubit,nelectron))\n",
    "    exact_energy = molecule.fci_energy\n",
    "    \n",
    "    return hf_energy,exact_energy"
   ]
  },
  {
   "cell_type": "code",
   "execution_count": 5,
   "metadata": {},
   "outputs": [],
   "source": [
    "import numpy as np\n",
    "\n",
    "h_num = 4\n",
    "distance = np.linspace(0.1,2.5,101) ###時間結構かかる(1101で4分くらい)\n",
    "hf,exact = [],[]\n",
    "for d in distance:\n",
    "    result = h_chain_potential(d,h_num)\n",
    "    hf.append(result[0])\n",
    "    exact.append(result[1])"
   ]
  },
  {
   "cell_type": "code",
   "execution_count": 6,
   "metadata": {},
   "outputs": [
    {
     "data": {
      "image/png": "[encoded data removed]",
      "text/plain": [
       "<Figure size 432x288 with 1 Axes>"
      ]
     },
     "metadata": {
      "needs_background": "light"
     },
     "output_type": "display_data"
    }
   ],
   "source": [
    "import matplotlib.pyplot as plt\n",
    "plt.rcParams[\"font.size\"] = 16\n",
    "\n",
    "x=distance#定義域の設定\n",
    "plt.plot(x,hf,color='blue',label=\"HF energy\")\n",
    "plt.plot(x,exact,color='red',label=\"Exact energy\")\n",
    "\n",
    "\n",
    "plt.title('potential energy')#title\n",
    "plt.xlabel('distance/Å')\n",
    "plt.ylabel('energy/hartree')\n",
    "\n",
    "# 目盛線と目盛値を配列で指定．\n",
    "## 目盛線の指定．\n",
    "plt.grid()\n",
    "##目盛値(及び目盛線)の指定．\n",
    "plt.xticks()\n",
    "plt.yticks()\n",
    "\n",
    "plt.ylim([-2.5,-0.40])\n",
    "plt.legend()\n",
    "plt.show()"
   ]
  },
  {
   "cell_type": "code",
   "execution_count": null,
   "metadata": {},
   "outputs": [],
   "source": []
  }
 ],
 "metadata": {
  "kernelspec": {
   "display_name": "Python 3",
   "language": "python",
   "name": "python3"
  },
  "language_info": {
   "codemirror_mode": {
    "name": "ipython",
    "version": 3
   },
   "file_extension": ".py",
   "mimetype": "text/x-python",
   "name": "python",
   "nbconvert_exporter": "python",
   "pygments_lexer": "ipython3",
   "version": "3.7.4"
  }
 },
 "nbformat": 4,
 "nbformat_minor": 4
}
