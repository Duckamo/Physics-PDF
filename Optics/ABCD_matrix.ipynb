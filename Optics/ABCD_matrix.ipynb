{
 "cells": [
  {
   "cell_type": "markdown",
   "metadata": {},
   "source": [
    "# ABCD行列を用いたレンズ設計"
   ]
  },
  {
   "cell_type": "code",
   "execution_count": 1,
   "metadata": {},
   "outputs": [],
   "source": [
    "import numpy as np"
   ]
  },
  {
   "cell_type": "markdown",
   "metadata": {},
   "source": [
    "## ABCD行列の定義"
   ]
  },
  {
   "cell_type": "code",
   "execution_count": 2,
   "metadata": {},
   "outputs": [],
   "source": [
    "def abcd_refraction(n1,n2,r):\n",
    "    ans = np.array([[1,0],[1/r * (n1/n2 -1),n1/n2]])\n",
    "    return np.round(ans,4)\n",
    "\n",
    "def abcd_straight(d):\n",
    "    ans = np.array([[1,d],[0,1]])\n",
    "    return np.round(ans,4)\n",
    "\n",
    "def abcd_lens(n1,n2,r1,r2,d):\n",
    "    ans = abcd_refraction(n2,n1,r2) @ abcd_straight(d) @ abcd_refraction(n1,n2,r1)\n",
    "    return np.round(ans,4)"
   ]
  },
  {
   "cell_type": "code",
   "execution_count": 3,
   "metadata": {},
   "outputs": [
    {
     "name": "stdout",
     "output_type": "stream",
     "text": [
      "[[ 1.      0.    ]\n",
      " [-0.      0.6667]]\n",
      "[[1 2]\n",
      " [0 1]]\n"
     ]
    },
    {
     "data": {
      "text/plain": [
       "array([[1.  , 0.  ],\n",
       "       [0.75, 1.  ]])"
      ]
     },
     "execution_count": 3,
     "metadata": {},
     "output_type": "execute_result"
    }
   ],
   "source": [
    "# 出力例\n",
    "print(abcd_refraction(1,1.5,100000))\n",
    "print(abcd_straight(2))\n",
    "abcd_lens(1,1.5,-1,2,0)"
   ]
  },
  {
   "cell_type": "markdown",
   "metadata": {},
   "source": [
    "## 薄いレンズのとき\n",
    "薄いレンズのときのときは，$d=0$とすればよい．\n",
    "\\begin{eqnarray}\n",
    "\t\\left(\\begin{array}{cc}1&0\\\\C_1 + C_2 &1\\end{array}\\right)\n",
    "\t=\\left(\\begin{array}{cc}1&0\\\\C_1 &1\\end{array}\\right)\n",
    "\t\\left(\\begin{array}{cc}1&0\\\\C_2 &1\\end{array}\\right)\n",
    "\\end{eqnarray}\n",
    "\n",
    "であるからレンズを重ね合わせると新たにできたレンズの焦点距離は，２レンズの焦点距離の逆数の和に等しい．つまりレンズを重ね合わせると焦点距離は短くなる(２レンズの焦点距離が正のとき)．\n",
    "２レンズの焦点距離を長くしたいときは，例えば\"→))\",\"→((\",\"→)(\"のような形のレンズ)"
   ]
  },
  {
   "cell_type": "code",
   "execution_count": 4,
   "metadata": {},
   "outputs": [
    {
     "data": {
      "text/plain": [
       "array([[ 1.,  0.],\n",
       "       [-2.,  1.]])"
      ]
     },
     "execution_count": 4,
     "metadata": {},
     "output_type": "execute_result"
    }
   ],
   "source": [
    "abcd_lens(1,1.5,2,-2,0) @ abcd_lens(1,1.5,2,-2,0) @ abcd_lens(1,1.5,1,-1,0.0)"
   ]
  },
  {
   "cell_type": "code",
   "execution_count": 5,
   "metadata": {},
   "outputs": [
    {
     "data": {
      "text/plain": [
       "array([[1. , 0. ],\n",
       "       [0.5, 1. ]])"
      ]
     },
     "execution_count": 5,
     "metadata": {},
     "output_type": "execute_result"
    }
   ],
   "source": [
    "abcd_lens(1,1.5,-1,-2,0) @ abcd_lens(1,1.5,-1,-2,0)"
   ]
  },
  {
   "cell_type": "code",
   "execution_count": null,
   "metadata": {},
   "outputs": [],
   "source": []
  }
 ],
 "metadata": {
  "kernelspec": {
   "display_name": "Python 3",
   "language": "python",
   "name": "python3"
  },
  "language_info": {
   "codemirror_mode": {
    "name": "ipython",
    "version": 3
   },
   "file_extension": ".py",
   "mimetype": "text/x-python",
   "name": "python",
   "nbconvert_exporter": "python",
   "pygments_lexer": "ipython3",
   "version": "3.7.4"
  }
 },
 "nbformat": 4,
 "nbformat_minor": 4
}
